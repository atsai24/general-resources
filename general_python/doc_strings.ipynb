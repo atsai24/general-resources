{
 "cells": [
  {
   "cell_type": "markdown",
   "metadata": {},
   "source": [
    "# Python Doc Strings"
   ]
  },
  {
   "cell_type": "markdown",
   "metadata": {},
   "source": [
    "If you've familiarized yourself with a bit of Python, you may have noticed the term 'doc-string'. This stands for documentation string, which literally is just a 'string' of documentation for a given class, function, or module. With this comes many different standards of creating docstrings depending on the domain or usecase; such as PEP-8(Python standard), Pandas Docstring, Google Style, etc. There are many styles out there but today we will be focusing on just the idea of creating docstrings, you can choose your own later. \n",
    "\n",
    "\n",
    "[Example of Google Docstring Style](https://sphinxcontrib-napoleon.readthedocs.io/en/latest/example_google.html)\n",
    "\n",
    "<img src='https://blog.hubspot.com/hubfs/image8-2.jpg' width=200 height='auto'></img>  \n",
    "\n",
    "Docstrings are used to understand what code does, it also guides others in how to use your code correctly which is an important part of the production environment.\n",
    "\n",
    "</br>\n",
    "</br>\n",
    "\n",
    "\n",
    "\n",
    "Consider the example below:\n",
    "\n",
    "```python\n",
    "def mult_10_no_annotate(num):\n",
    "    return num * 10\n",
    "```\n",
    "\n",
    "```python\n",
    "def mult_10_with_annotate(num:int) -> int:\n",
    "    \"\"\"Multiplies a given number by 10\n",
    "\n",
    "    Parameters\n",
    "    ----------\n",
    "    num : int\n",
    "        The first parameter.\n",
    "\n",
    "    Returns\n",
    "    -------\n",
    "    int\n",
    "        num multiplied by 10\n",
    "\n",
    "    \"\"\"\n",
    "    return num * 10\n",
    "```\n",
    "\n",
    "To access a function or module's docstring, in Jupyter when the cursor is over the function, hold SHIFT and TAB to see information associated with the particular object.\n",
    "\n",
    "## Examples of annotations\n",
    "\n",
    "### mult_10_no_annotate \n",
    "<img src='../media/func_non_annotate.png'></img>\n",
    "\n",
    "### mult_10_with_annotate \n",
    "\n",
    "<img src='../media/func_annotate.png'></img>\n",
    "\n",
    "\n",
    "\n"
   ]
  },
  {
   "cell_type": "code",
   "execution_count": null,
   "metadata": {},
   "outputs": [],
   "source": []
  }
 ],
 "metadata": {
  "kernelspec": {
   "display_name": "Python 3",
   "language": "python",
   "name": "python3"
  },
  "language_info": {
   "codemirror_mode": {
    "name": "ipython",
    "version": 3
   },
   "file_extension": ".py",
   "mimetype": "text/x-python",
   "name": "python",
   "nbconvert_exporter": "python",
   "pygments_lexer": "ipython3",
   "version": "3.7.6"
  }
 },
 "nbformat": 4,
 "nbformat_minor": 4
}
