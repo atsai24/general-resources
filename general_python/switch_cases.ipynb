{
 "cells": [
  {
   "cell_type": "code",
   "execution_count": 1,
   "metadata": {},
   "outputs": [],
   "source": [
    "%load_ext autoreload\n",
    "%autoreload 2"
   ]
  },
  {
   "cell_type": "code",
   "execution_count": 2,
   "metadata": {},
   "outputs": [],
   "source": [
    "import numpy as np\n",
    "import pandas as pd\n",
    "import matplotlib.pyplot as plt"
   ]
  },
  {
   "cell_type": "markdown",
   "metadata": {},
   "source": [
    "# Switch Case Emulation in Python"
   ]
  },
  {
   "cell_type": "code",
   "execution_count": 46,
   "metadata": {},
   "outputs": [],
   "source": [
    "# Create Sample Data\n",
    "# data = pd.DataFrame({'type':['name', 'address', 'phone', 'address', 'phone', 'name'],\n",
    "#                      'info':['Doug Sawyer', '5334 65th PL Seattle, WA', 2064989032, '901 Cool Street Denver, CO', 4259986745, 'Tom Brady']\n",
    "#                     })\n",
    "\n",
    "type_category = ['name', 'address', 'phone', 'address', 'phone', 'name']\n",
    "data_collection = ['Doug Sawyer', '5334 65th PL Seattle, WA', 2064989032, '901 Cool Street Denver, CO', 4259986745, 'Tom Brady']"
   ]
  },
  {
   "cell_type": "markdown",
   "metadata": {},
   "source": [
    "As seen above, we have a pretty ugly collection of data, the only salvation we have is the fact that these are categorized into types. Although there are much better ways to organize or format this, for the sake of this tutorial, lets say that we needed to apply a function to each different piece of data in the 'info' section depending on it's associated 'type'."
   ]
  },
  {
   "cell_type": "code",
   "execution_count": 38,
   "metadata": {},
   "outputs": [],
   "source": [
    "# Create arbitrary functions for processing types\n",
    "def name_process(name:str) -> dict:\n",
    "    return dict(zip(['First Name', 'Last Name'], name.split()))\n",
    "\n",
    "def address_process(address:str) -> dict:\n",
    "    parted = address.partition(',')\n",
    "    return dict(zip(['City', 'State'], [parted[0].split()[-1], parted[-1]]))\n",
    "\n",
    "def phone_process(phone_num:int) -> str:\n",
    "    return str(phone_num)[:3]\n"
   ]
  },
  {
   "cell_type": "markdown",
   "metadata": {},
   "source": [
    "# Non-Switch Case Applying"
   ]
  },
  {
   "cell_type": "code",
   "execution_count": null,
   "metadata": {},
   "outputs": [],
   "source": [
    "# Create function that iterates over dataframe and applies each function to their respective types\n",
    "def apply_funcs(category:list, data:list) -> None:\n",
    "    for type_, data_ in zip(category, data):\n",
    "        tmp = None\n",
    "        if type_ == 'name':\n",
    "            tmp = name_process(data_)\n",
    "        elif type_ == 'address':\n",
    "            tmp = address_process(data_)\n",
    "        elif type_ == 'phone':\n",
    "            tmp = phone_process(data_)\n",
    "        else:\n",
    "            pass\n",
    "        print(tmp)\n",
    "    return \n",
    "        \n",
    "apply_funcs(type_category, data_collection)"
   ]
  },
  {
   "cell_type": "markdown",
   "metadata": {},
   "source": [
    "# Switch Case Application"
   ]
  },
  {
   "cell_type": "code",
   "execution_count": 65,
   "metadata": {},
   "outputs": [
    {
     "name": "stdout",
     "output_type": "stream",
     "text": [
      "{'First Name': 'Doug', 'Last Name': 'Sawyer'}\n",
      "{'City': 'Seattle', 'State': ' WA'}\n",
      "206\n",
      "{'City': 'Denver', 'State': ' CO'}\n",
      "425\n",
      "{'First Name': 'Tom', 'Last Name': 'Brady'}\n"
     ]
    }
   ],
   "source": [
    "from collections import defaultdict\n",
    "\n",
    "func_map = defaultdict(lambda: None, {\n",
    "    'name':name_process,\n",
    "    'address':address_process,\n",
    "    'phone':phone_process,\n",
    "})\n",
    "\n",
    "def apply_funcs_switch(category:list, data:list, func_map:callable) -> None:\n",
    "    for type_, data_ in zip(category, data):\n",
    "        tmp = func_map.get(type_)(data_)\n",
    "        print(tmp)\n",
    "    return \n",
    "        \n",
    "apply_funcs_switch(type_category, data_collection, func_map)"
   ]
  },
  {
   "cell_type": "markdown",
   "metadata": {},
   "source": [
    "*Note that these might not be the best examples to show but just know that you can map functions to keys in dictionaries, meaning the possibilities are endless.*"
   ]
  }
 ],
 "metadata": {
  "kernelspec": {
   "display_name": "Python 3",
   "language": "python",
   "name": "python3"
  },
  "language_info": {
   "codemirror_mode": {
    "name": "ipython",
    "version": 3
   },
   "file_extension": ".py",
   "mimetype": "text/x-python",
   "name": "python",
   "nbconvert_exporter": "python",
   "pygments_lexer": "ipython3",
   "version": "3.7.6"
  }
 },
 "nbformat": 4,
 "nbformat_minor": 4
}
